{
 "cells": [
  {
   "cell_type": "markdown",
   "metadata": {
    "id": "ZoqX60uNyqxD"
   },
   "source": [
    "# 1. Arranging required packages"
   ]
  },
  {
   "cell_type": "markdown",
   "metadata": {
    "id": "mHfj6_l0HCWI"
   },
   "source": [
    "## 1.1. Installing packages"
   ]
  },
  {
   "cell_type": "markdown",
   "metadata": {
    "id": "wkUi_LxTz0pk"
   },
   "source": [
    "\n",
    "\n",
    "> Install PyGithub package :\n",
    "\n"
   ]
  },
  {
   "cell_type": "code",
   "execution_count": 1,
   "metadata": {
    "colab": {
     "base_uri": "https://localhost:8080/"
    },
    "id": "8oFzJuyPyk59",
    "outputId": "3151687f-488f-448f-d133-89d54e017be0"
   },
   "outputs": [],
   "source": [
    "%%capture\n",
    "pip install PyGithub\n"
   ]
  },
  {
   "cell_type": "markdown",
   "metadata": {
    "id": "pkAbIEvJHI4Q"
   },
   "source": [
    "## 1.2. Importing packages"
   ]
  },
  {
   "cell_type": "markdown",
   "metadata": {
    "id": "fXWhjUxG2H7t"
   },
   "source": [
    "\n",
    "\n",
    "> Import necessary packages :\n",
    "\n"
   ]
  },
  {
   "cell_type": "code",
   "execution_count": 2,
   "metadata": {
    "id": "hlElPpul1_RD"
   },
   "outputs": [],
   "source": [
    "from github import UnknownObjectException\n",
    "from github import Github\n",
    "from time import sleep\n",
    "import csv\n",
    "import sys\n"
   ]
  },
  {
   "cell_type": "markdown",
   "metadata": {
    "id": "e4tPoOIO2RED"
   },
   "source": [
    "# 2. Environment preparation"
   ]
  },
  {
   "cell_type": "markdown",
   "metadata": {
    "id": "ro48Wxo82cxC"
   },
   "source": [
    "## 2.1. GitHub API Token"
   ]
  },
  {
   "cell_type": "markdown",
   "metadata": {
    "id": "5ED4W2bqCB-A"
   },
   "source": [
    "\n",
    "\n",
    "> Use the token from your GitHub account :\n",
    "\n"
   ]
  },
  {
   "cell_type": "code",
   "execution_count": 3,
   "metadata": {
    "id": "jL_7QgobUDNq"
   },
   "outputs": [],
   "source": [
    "ACCESS_TOKEN = '' # Put your GitHub API Token here\n"
   ]
  },
  {
   "cell_type": "markdown",
   "metadata": {
    "id": "Obh1zI-z3bjK"
   },
   "source": [
    "## 2.2. Initialize Github Client"
   ]
  },
  {
   "cell_type": "code",
   "execution_count": 4,
   "metadata": {
    "id": "n2c2wO-g3hvN"
   },
   "outputs": [],
   "source": [
    "g = Github(ACCESS_TOKEN)\n"
   ]
  },
  {
   "cell_type": "markdown",
   "metadata": {
    "id": "9nBBJYPymdzC"
   },
   "source": [
    "## 2.3. Utility Functions"
   ]
  },
  {
   "cell_type": "markdown",
   "metadata": {},
   "source": [
    "> Write CSV file header :"
   ]
  },
  {
   "cell_type": "code",
   "execution_count": 5,
   "metadata": {
    "id": "oXVK6Cc8mii-"
   },
   "outputs": [],
   "source": [
    "def save_header(file_path, header):\n",
    "  with open(file_path, 'w', newline='') as f:\n",
    "    writer = csv.writer(f)\n",
    "    # write the header\n",
    "    writer.writerow(header)\n"
   ]
  },
  {
   "cell_type": "markdown",
   "metadata": {},
   "source": [
    "> Save in CSV :"
   ]
  },
  {
   "cell_type": "code",
   "execution_count": 6,
   "metadata": {
    "id": "HS70gt4anwbj"
   },
   "outputs": [],
   "source": [
    "def save_csv(file_path, row):\n",
    "  with open(file_path, 'a', newline='') as f:\n",
    "    writer = csv.writer(f)\n",
    "    # write the data\n",
    "    writer.writerow(row)\n"
   ]
  },
  {
   "cell_type": "markdown",
   "metadata": {
    "id": "DsIJdbLMB2wm"
   },
   "source": [
    "\n",
    "\n",
    "> Change the PATH accordingly to match your Drive folder :\n",
    "\n"
   ]
  },
  {
   "cell_type": "code",
   "execution_count": 7,
   "metadata": {
    "id": "IzQipxqt0ds2"
   },
   "outputs": [],
   "source": [
    "PATH = './Example/Data/'\n"
   ]
  },
  {
   "cell_type": "markdown",
   "metadata": {
    "id": "OQIZhSE2Aw6f"
   },
   "source": [
    "# 3. Extract Data for [Users]"
   ]
  },
  {
   "cell_type": "markdown",
   "metadata": {
    "id": "FaO60S_bCLMj"
   },
   "source": [
    "This section is related to the download of **Users** Data :"
   ]
  },
  {
   "cell_type": "code",
   "execution_count": 8,
   "metadata": {
    "id": "snRjInBW3Ju9"
   },
   "outputs": [],
   "source": [
    "def save_user(file_path, user):\n",
    "    data = [\n",
    "            user.login,\n",
    "            user.type,\n",
    "            user.site_admin,\n",
    "            user.created_at,\n",
    "            user.updated_at,\n",
    "            user.public_repos,\n",
    "            user.public_gists,\n",
    "            user.followers,\n",
    "            user.following,\n",
    "            user.email\n",
    "    ]\n",
    "    save_csv(file_path, data)\n"
   ]
  },
  {
   "cell_type": "code",
   "execution_count": 9,
   "metadata": {
    "id": "ykCEh91PAzYZ"
   },
   "outputs": [],
   "source": [
    "src_path = PATH + 'Users/Input.csv'\n",
    "res_path = PATH + 'Users/Output.csv'\n",
    "log_path = PATH + 'Users/Log.csv'\n"
   ]
  },
  {
   "cell_type": "markdown",
   "metadata": {},
   "source": [
    "## 3.1. First Time Execution"
   ]
  },
  {
   "cell_type": "markdown",
   "metadata": {
    "id": "_oiFC94lDhPG"
   },
   "source": [
    "\n",
    "\n",
    "> Run this block ONLY the first time, it writes the headers of the CSV file. Otherwise, it overwrites the downloaded data !\n",
    "\n"
   ]
  },
  {
   "cell_type": "code",
   "execution_count": 10,
   "metadata": {
    "id": "e2h2L8Z-13jg"
   },
   "outputs": [],
   "source": [
    "header = ['Author', 'Type', 'Site_admin', 'Created_at', 'Updated_at', 'Public_repos', 'Public_gists', 'Followers', 'Following', 'Email']\n",
    "log_header = ['Author']\n",
    "save_header(res_path, header)\n",
    "save_header(log_path, log_header)\n"
   ]
  },
  {
   "cell_type": "markdown",
   "metadata": {},
   "source": [
    "## 3.2. Data Extraction"
   ]
  },
  {
   "cell_type": "code",
   "execution_count": 11,
   "metadata": {
    "id": "iyGaPrzUVwMt"
   },
   "outputs": [],
   "source": [
    "count = -1\n",
    "with open(src_path, 'r') as file:\n",
    "    reader = csv.reader(file)\n",
    "    for row in reader:\n",
    "        if count == -1:\n",
    "            # Skip the header\n",
    "            count += 1\n",
    "            continue\n",
    "        try:\n",
    "            user = g.get_user(row[0])\n",
    "            save_user(res_path, user)\n",
    "        except:\n",
    "            save_csv(log_path, [row[0]])\n",
    "        count += 1\n",
    "        if (count % 60 == 0):\n",
    "            # Due to API Rate Limit\n",
    "            sleep(60)\n"
   ]
  },
  {
   "cell_type": "markdown",
   "metadata": {
    "id": "njBEew9SHWv4"
   },
   "source": [
    "# 4. Extract Data for [Repos], [PRs] & [Commits]"
   ]
  },
  {
   "cell_type": "markdown",
   "metadata": {
    "id": "GZ9afVFfDPtz"
   },
   "source": [
    "This section is related to the download of **Repositories**, **Pull Requests** and **Commits** Data :"
   ]
  },
  {
   "cell_type": "code",
   "execution_count": 12,
   "metadata": {
    "id": "HZV2VbeWa8zd"
   },
   "outputs": [],
   "source": [
    "def find_repo(repositories, owner, repo_name):\n",
    "    for repo in repositories:\n",
    "        if (repo.owner.login == owner and repo.name == repo_name):\n",
    "            return repo\n",
    "    return None\n"
   ]
  },
  {
   "cell_type": "code",
   "execution_count": 13,
   "metadata": {
    "id": "S6CEfivFafMj"
   },
   "outputs": [],
   "source": [
    "src_path      = PATH + 'PRs/Input.csv'\n",
    "\n",
    "pr_res_path   = PATH + 'PRs/Output.csv'\n",
    "pr_log_path   = PATH + 'PRs/Log.csv'\n",
    "\n",
    "repo_res_path = PATH + 'Repos/Output.csv'\n",
    "repo_log_path = PATH + 'Repos/Log.csv'\n",
    "\n",
    "comm_res_path = PATH + 'Commits/Output.csv'\n",
    "comm_log_path = PATH + 'Commits/Log.csv'\n"
   ]
  },
  {
   "cell_type": "markdown",
   "metadata": {
    "id": "h3g2yTgVjffW"
   },
   "source": [
    "## 4.1. First Time Execution"
   ]
  },
  {
   "cell_type": "markdown",
   "metadata": {
    "id": "_oiFC94lDhPG"
   },
   "source": [
    "\n",
    "\n",
    "> Run this block ONLY the first time, it writes the headers of the CSV files. Otherwise, it overwrites the downloaded data !\n",
    "\n"
   ]
  },
  {
   "cell_type": "code",
   "execution_count": 14,
   "metadata": {
    "id": "tXFHhfftq1Cc"
   },
   "outputs": [],
   "source": [
    "pr_header = ['Owner', 'Repo', 'Number', 'Author', 'Created_at', 'Updated_at', 'Closed_at', 'Merged_at', 'State',\n",
    "             'Title', 'Body', 'Assignee', 'Assignees', 'Requested_reviewers', 'Labels', 'Mergeable', \n",
    "             'Mergeable_state', 'Comments', 'Review_comments', 'Commits', 'Additions', 'Deletions', 'Changed_files']\n",
    "pr_log_header = ['Owner', 'Repo', 'Pull']\n",
    "save_header(pr_res_path, pr_header)\n",
    "save_header(pr_log_path, pr_log_header)\n"
   ]
  },
  {
   "cell_type": "code",
   "execution_count": 15,
   "metadata": {},
   "outputs": [],
   "source": [
    "repo_header = ['Owner', 'Repo', 'Private', 'Description', 'Fork', 'Created_at', 'Updated_at', 'Pushed_at', 'Size', \n",
    "               'Stars', 'Watchers', 'Language', 'Archived', 'Forks', 'Open_issues']\n",
    "repo_log_header = ['Owner', 'Repo']\n",
    "save_header(repo_res_path, repo_header)\n",
    "save_header(repo_log_path, repo_log_header)\n"
   ]
  },
  {
   "cell_type": "code",
   "execution_count": 16,
   "metadata": {
    "id": "1P1D7guDEgu9"
   },
   "outputs": [],
   "source": [
    "comm_header = ['Owner', 'Repo', 'Number', 'SHA', 'Author', 'A_Date', 'Committer', 'C_Date', 'Message']\n",
    "comm_log_header = ['Owner', 'Repo', 'Pull']\n",
    "save_header(comm_res_path, comm_header)\n",
    "save_header(comm_log_path, comm_log_header)\n"
   ]
  },
  {
   "cell_type": "markdown",
   "metadata": {
    "id": "FInd1pWMjnP9"
   },
   "source": [
    "## 4.2. Data Extraction :"
   ]
  },
  {
   "cell_type": "markdown",
   "metadata": {
    "id": "-dH3pLK5Enzd"
   },
   "source": [
    "\n",
    "\n",
    "> Run this block to download data and continue the download where you left off :\n",
    "\n"
   ]
  },
  {
   "cell_type": "markdown",
   "metadata": {},
   "source": [
    "### 4.2.1. Functions :"
   ]
  },
  {
   "cell_type": "code",
   "execution_count": 17,
   "metadata": {
    "id": "h2962z-3ovcE"
   },
   "outputs": [],
   "source": [
    "def save_repo(file_path, repo):\n",
    "    description = None\n",
    "    if not(repo.description is None):\n",
    "        description = repo.description.replace(\"\\n\", \" \").replace(\"\\r\", \" \").replace(\"\\b\", \" \").replace(\";\", \",\")\n",
    "    data = [\n",
    "            repo.owner.login,\n",
    "            repo.name,\n",
    "            repo.private,\n",
    "            description,\n",
    "            repo.fork,\n",
    "            repo.created_at,\n",
    "            repo.updated_at,\n",
    "            repo.pushed_at,\n",
    "            repo.size,\n",
    "            repo.stargazers_count,\n",
    "            repo.watchers_count,\n",
    "            repo.language,\n",
    "            repo.archived,\n",
    "            repo.forks,\n",
    "            repo.open_issues\n",
    "    ]\n",
    "    save_csv(file_path, data)\n"
   ]
  },
  {
   "cell_type": "code",
   "execution_count": 18,
   "metadata": {
    "id": "417z0z7XBO-j"
   },
   "outputs": [],
   "source": [
    "def save_pull(file_path, repo, pull):\n",
    "    labels = []\n",
    "    for label in pull.get_labels():\n",
    "        labels.append(label.name)\n",
    "    assignee = None\n",
    "    if not(pull.assignee is None):\n",
    "        assignee = pull.assignee.login\n",
    "    body = None\n",
    "    if not(pull.body is None):\n",
    "        body = pull.body.replace(\"\\n\", \" \").replace(\"\\r\", \" \").replace(\"\\b\", \" \").replace(\";\", \",\")\n",
    "    title = None\n",
    "    if not(pull.title is None):\n",
    "        title = pull.title.replace(\"\\n\", \" \").replace(\"\\r\", \" \").replace(\"\\b\", \" \").replace(\";\", \",\")\n",
    "    data = [\n",
    "            repo.owner.login,\n",
    "            repo.name,\n",
    "            pull.number,\n",
    "            pull.user.login,\n",
    "            pull.created_at,\n",
    "            pull.updated_at,\n",
    "            pull.closed_at,\n",
    "            pull.merged_at,\n",
    "            pull.state,\n",
    "            title,\n",
    "            len(body),\n",
    "            assignee,\n",
    "            len(pull.assignees),\n",
    "            len(pull.get_review_requests()),\n",
    "            labels,\n",
    "            pull.mergeable,\n",
    "            pull.mergeable_state,\n",
    "            pull.comments,\n",
    "            pull.review_comments,\n",
    "            pull.commits,\n",
    "            pull.additions,\n",
    "            pull.deletions,\n",
    "            pull.changed_files\n",
    "    ]\n",
    "    save_csv(file_path, data)\n"
   ]
  },
  {
   "cell_type": "code",
   "execution_count": 19,
   "metadata": {
    "id": "A9JXb0kD5wT0"
   },
   "outputs": [],
   "source": [
    "def save_commit(file_path, repo, pull, commit):\n",
    "    message = None\n",
    "    if not(commit.commit.message is None):\n",
    "        message = commit.commit.message.replace(\"\\n\", \" \").replace(\"\\r\", \" \").replace(\"\\b\", \" \").replace(\";\", \",\")\n",
    "    data = [\n",
    "            repo.owner.login,\n",
    "            repo.name,\n",
    "            pull.number,\n",
    "            commit.sha,\n",
    "            commit.commit.author.name,\n",
    "            commit.commit.author.date,\n",
    "            commit.commit.committer.name,\n",
    "            commit.commit.committer.date,\n",
    "            message\n",
    "    ]\n",
    "    save_csv(file_path, data)\n"
   ]
  },
  {
   "cell_type": "markdown",
   "metadata": {
    "id": "JeLF-8HpEt1t"
   },
   "source": [
    "### 4.2.2. Execution:"
   ]
  },
  {
   "cell_type": "code",
   "execution_count": 20,
   "metadata": {
    "id": "Awka_MVG5ORy"
   },
   "outputs": [],
   "source": [
    "repositories = []\n"
   ]
  },
  {
   "cell_type": "markdown",
   "metadata": {
    "id": "g7-SXfSyPDEX"
   },
   "source": [
    "\n",
    "\n",
    "> This subsection allows to skip the lines that were already handled :\n",
    "\n"
   ]
  },
  {
   "cell_type": "code",
   "execution_count": 21,
   "metadata": {
    "id": "KRlZq3M0T_5b"
   },
   "outputs": [],
   "source": [
    "maxInt = sys.maxsize\n",
    "while True:\n",
    "    try:\n",
    "        csv.field_size_limit(maxInt)\n",
    "        break\n",
    "    except OverflowError:\n",
    "        maxInt = int(maxInt/10)\n"
   ]
  },
  {
   "cell_type": "code",
   "execution_count": 22,
   "metadata": {
    "colab": {
     "base_uri": "https://localhost:8080/"
    },
    "id": "d5rmh4UGPGbA",
    "outputId": "4194a19f-c390-45bf-83fa-754b0adbf538"
   },
   "outputs": [
    {
     "name": "stdout",
     "output_type": "stream",
     "text": [
      "0\n"
     ]
    }
   ],
   "source": [
    "output_file = open(pr_res_path)\n",
    "output_read = csv.reader(output_file)\n",
    "output_size = len(list(output_read)) - 1\n",
    "print(output_size)\n"
   ]
  },
  {
   "cell_type": "markdown",
   "metadata": {},
   "source": [
    "> Start the extraction :"
   ]
  },
  {
   "cell_type": "code",
   "execution_count": 23,
   "metadata": {
    "colab": {
     "base_uri": "https://localhost:8080/"
    },
    "id": "LUp9Cyaka1iO",
    "outputId": "530cd695-9cfb-4221-b9c8-043c5caa99b8",
    "scrolled": true
   },
   "outputs": [
    {
     "name": "stdout",
     "output_type": "stream",
     "text": [
      "[-1, 'owner', 'repo', 'number']\n",
      "[0, 'rajeshdh', 'twittersentiments', '79']\n",
      "[2, 'shobhitsingh29', 'saga_multiple_page', '33']\n",
      "[4, 'danish45007', 'maddit', '14']\n",
      "[6, 'developer-student-club-thapar', 'officialWebsite', '438']\n",
      "[8, 'STAC-IITMandi', 'STAC-IITMandi.github.io', '210']\n",
      "[10, 'k2glyph', 'react-material-admin-template', '40']\n",
      "[12, 'sambhav2612', 'keystone', '74']\n",
      "[14, 'khrj', 'teledrive', '70']\n",
      "[16, 'rajeshdh', 'jsStarterKit', '60']\n",
      "[18, 'Jorge-Bill', 'blog', '52']\n",
      "[20, 'TrigenSoftware', 'i18n-for-browser', '370']\n",
      "[22, 'keindev', 'string-lookup-manager', '493']\n",
      "[24, 'TrigenSoftware', 'i18n-for-react', '237']\n",
      "[26, '2001-800080', 'graceshopperrepo', '126']\n",
      "[28, 'freedomlang', 'VueWordCloud', '152']\n",
      "[30, 'react-component', 'gulp-jsx2example', '97']\n",
      "[32, 'geeeger', 'ws-uploader', '160']\n",
      "[34, 'ngoctrantl', 'erc20-explorer', '29']\n",
      "[36, 'DIYgod', 'diygod.me', '365']\n",
      "[38, 'jeremyrajan', 'json-markdown', '134']\n",
      "[40, 'Badi-Cal', 'badi-events-app', '41']\n",
      "[42, 'SweakNetwork', 'chikuwagoddon', '417']\n",
      "[44, 'seijikohara', 'json-tree-view-vue3', '110']\n",
      "[46, 'takumi091111', 'website-nuxtjs', '160']\n",
      "[48, 'DeloitteDigitalAPAC', 'rhythm-ui', '181']\n",
      "[50, 'react-component', 'rc-server', '43']\n",
      "[52, 'webxmsj', 'blog-admin', '130']\n",
      "[54, 'TrigenSoftware', 'flexis-favicons', '364']\n",
      "[56, 'aaronhayes', 'hasura-sdk', '69']\n",
      "[58, 'CoinageCrypto', 'lamington', '382']\n",
      "Waiting ...\n",
      "[60, 'tidev', 'appcelerator.ble', '141']\n",
      "[62, 'eden-js', 'form', '111']\n",
      "[64, 'santosrai', 'Community.Activities', '73']\n",
      "[66, 'ruevko', 'slides', '1']\n",
      "[68, 'DotNetCodeIT', 'WebHooksServer', '33']\n",
      "[70, 'DotNetCodeIT', 'WebHooksServer', '32']\n",
      "[71, 'Asherlc', 'homecalc', '105']\n",
      "[73, 'feldroy', 'django-crash-starter', '224']\n",
      "[75, 'aerickson', 'volumio-plugins', '62']\n",
      "[77, 'feldroy', 'django-crash-starter', '222']\n",
      "[78, 'visormatt', 'generator', '331']\n",
      "[80, 'dijonkitchen', 'material-ui-pickers', '9']\n",
      "[82, 'nathang21', 'markdown-it', '61']\n",
      "[84, 'shaped1', 'Bot', '15']\n",
      "[86, 'atscott', 'is-adrian-going', '315']\n",
      "[88, 'ffffranklin', 'ffffranklin.github.io', '264']\n",
      "[90, 'dabutvin', 'grunt-markdown', '122']\n",
      "[92, 'Vyvy-vi-archives', 'lets-troll-ryan', '6']\n",
      "[94, 'Vyvy-vi-archives', 'lets-troll-ryan', '3']\n",
      "[95, 'andyesys', 'npgsql', '37']\n",
      "[97, 'lucaspanjer', 'activemq', '6']\n",
      "[99, 'andyesys', 'npgsql', '36']\n",
      "[100, 'mowatermelon', 'learning-angular-webapp', '59']\n",
      "[102, 'status-board', 'core', '303']\n",
      "[104, 'ipfs', 'js-dag-service', '446']\n",
      "[106, 'msrose', 'node-package', '41']\n",
      "[108, 'mondeja', 'remove-labels-gh-action', '3']\n",
      "[110, 'Meadowsys', 'sani', '80']\n",
      "[112, 'sayrilamar', 'react-color', '120']\n",
      "[114, 'helpyio', 'helpy', '1973']\n",
      "[116, 'aemc', 'goal-coach', '22']\n",
      "[118, 'uwpokerclub', 'app', '32']\n",
      "Waiting ...\n",
      "[120, 'aemc', 'jest', '28']\n",
      "[122, 'pilleye', 'jumpstart', '78']\n",
      "[124, 'aemc', 'goal-coach', '21']\n",
      "[125, 'aemc', 'material-ui', '21']\n",
      "[127, 'status-board', 'status-board', '1165']\n",
      "[129, 'ganoninc', 'gulp-webserver', '52']\n",
      "[131, 'moimikey', 'imagesloaded', '44']\n",
      "[133, 'mrlynn', 'meanstore', '670']\n",
      "[135, 'piemasters', 'MiniToTheMax', '1539']\n",
      "[137, 'yotie', 'micron', '102']\n",
      "[139, 'fu4303', 'mxb', '10']\n",
      "[141, 'fu4303', 'react-covid-tracker', '10']\n",
      "[143, 'belsrc', 'react-ts-demo', '171']\n",
      "[145, 'fu4303', 'mxb', '8']\n",
      "[146, 'usgs', 'nwisweb-tableau-data-connector', '261']\n",
      "[148, 'fu4303', 'mxbstr', '8']\n",
      "[150, 'fu4303', 'lauracharvey', '8']\n",
      "[152, 'fu4303', 'react-covid-tracker', '8']\n",
      "[153, 'fu4303', 'portfolio-dnd', '10']\n",
      "[155, 'fu4303', 'eb-products', '17']\n",
      "[157, 'decentraland', 'builder', '1288']\n",
      "[159, 'fu4303', 'pokedex', '13']\n",
      "[161, 'fu4303', 'react-hackernews', '12']\n",
      "[163, 'ruhacks', 'quill', '29']\n",
      "[165, 'fu4303', 'starter-nextjs-bus', '8']\n",
      "[167, 'mattblubaugh', 'javascript-development-environment', '65']\n",
      "[169, 'mark-monteiro', 'smokes-lets-go', '28']\n",
      "[171, 'rogeriorioli', 'personal_lp_nextjs', '38']\n",
      "[173, 'remotehour', 'rrule-duration', '10']\n",
      "[175, 'fu4303', 'starter-11ty-base', '11']\n",
      "[177, 'aemc', 'material-ui', '20']\n",
      "[178, 'lingnet', 'functions-samples', '239']\n",
      "Waiting ...\n",
      "[180, 'Judahh', 'pocketDoc', '153']\n",
      "[182, 'biglotteryfund', 'craft-dev', '577']\n",
      "[184, 'martinfrancois', 'wdio-mobile-utils', '606']\n",
      "[186, 'ember-learn', 'deprecation-app', '831']\n",
      "[188, 'cesi-it-aix', 'bea-front', '143']\n"
     ]
    }
   ],
   "source": [
    "requested = False\n",
    "index = 0\n",
    "count = -1\n",
    "with open(src_path, 'r') as file:\n",
    "    reader = csv.reader(file)\n",
    "    for row in reader:\n",
    "        requested = False\n",
    "        if (index < output_size):\n",
    "            index += 1\n",
    "            continue\n",
    "        print([count, row[0], row[1], row[2]])\n",
    "        if count == -1:\n",
    "            count += 1\n",
    "            continue\n",
    "        repo = find_repo(repositories, row[0], row[1])\n",
    "        try:\n",
    "          if (repo is None):\n",
    "              requested = True\n",
    "              repo = g.get_repo(row[0] + '/' + row[1])\n",
    "              save_repo(repo_res_path, repo)\n",
    "              repositories.append(repo)\n",
    "              count += 1\n",
    "        except UnknownObjectException:\n",
    "          print(\"Repository not found !\")\n",
    "          save_csv(repo_log_path, [row[0], row[1]])\n",
    "          count += 1\n",
    "          continue\n",
    "        try:\n",
    "          requested = True\n",
    "          pull = repo.get_pull(int(row[2]))\n",
    "          save_pull(pr_res_path, repo, pull)\n",
    "          count += 1\n",
    "        except UnknownObjectException:\n",
    "          print(\"Pull Request not found !\")\n",
    "          count += 1\n",
    "          save_csv(pr_log_path, [row[0], row[1], row[2]])\n",
    "          continue\n",
    "        commits = pull.get_commits()\n",
    "        for commit in commits:\n",
    "            save_commit(comm_res_path, repo, pull, commit)\n",
    "        if (count % 60 == 0 and requested):\n",
    "            print(\"Waiting ...\")\n",
    "            # Due to API Rate Limit\n",
    "            sleep(60)\n"
   ]
  },
  {
   "cell_type": "markdown",
   "metadata": {
    "id": "yTAFUpEJ8b8H"
   },
   "source": [
    "# 5. Extract Data for PR [Merged by] Who ?"
   ]
  },
  {
   "cell_type": "markdown",
   "metadata": {},
   "source": [
    "This section allows to download data related to the user who **merged** the PRs :"
   ]
  },
  {
   "cell_type": "markdown",
   "metadata": {},
   "source": [
    "## 5.1. Environment Preparation :"
   ]
  },
  {
   "cell_type": "code",
   "execution_count": 25,
   "metadata": {
    "id": "sACKHFH_8dzO"
   },
   "outputs": [],
   "source": [
    "%%capture\n",
    "!pip install octokitpy\n",
    "from octokit import Octokit\n",
    "import requests\n"
   ]
  },
  {
   "cell_type": "markdown",
   "metadata": {},
   "source": [
    "\n",
    "\n",
    "> Use the token from your GitHub account :\n",
    "\n"
   ]
  },
  {
   "cell_type": "code",
   "execution_count": 26,
   "metadata": {
    "colab": {
     "base_uri": "https://localhost:8080/"
    },
    "id": "RrgeqlEHStGa",
    "outputId": "78e94224-67a8-442a-eec3-d429376ad04f"
   },
   "outputs": [],
   "source": [
    "octo = Octokit(auth='token', token='') # Put your GitHub API Token here\n"
   ]
  },
  {
   "cell_type": "code",
   "execution_count": 27,
   "metadata": {
    "id": "iPFR0Wyjb0bF"
   },
   "outputs": [],
   "source": [
    "PATH = './Example/Data/By/Merged/'\n",
    "src_path = PATH + 'Input.csv'\n",
    "res_path = PATH + 'Output.csv'\n"
   ]
  },
  {
   "cell_type": "markdown",
   "metadata": {
    "id": "h3g2yTgVjffW"
   },
   "source": [
    "## 5.2. First Time Execution"
   ]
  },
  {
   "cell_type": "code",
   "execution_count": 28,
   "metadata": {
    "id": "sXMWIRcDLO2p"
   },
   "outputs": [],
   "source": [
    "header = ['owner', 'repo', 'number', 'merged_by', 'comment_url', 'html_url']\n",
    "save_header(res_path, header)\n"
   ]
  },
  {
   "cell_type": "markdown",
   "metadata": {
    "id": "FInd1pWMjnP9"
   },
   "source": [
    "## 5.3. Data Extraction :"
   ]
  },
  {
   "cell_type": "markdown",
   "metadata": {},
   "source": [
    "### 5.3.1. Functions :"
   ]
  },
  {
   "cell_type": "code",
   "execution_count": 29,
   "metadata": {
    "id": "pXSFpmRxmy4C"
   },
   "outputs": [],
   "source": [
    "def save_add_info(owner, repo, number, merged_by, comment_url, html_url):\n",
    "    data = [\n",
    "            owner,\n",
    "            repo,\n",
    "            number,\n",
    "            merged_by,\n",
    "            comment_url,\n",
    "            html_url\n",
    "            ]\n",
    "    save_csv(res_path, data)\n"
   ]
  },
  {
   "cell_type": "code",
   "execution_count": 30,
   "metadata": {
    "id": "gIp2ouItTI4R"
   },
   "outputs": [],
   "source": [
    "def handle_request(owner, repo, num):\n",
    "    pr = octo.pulls.get(owner=owner, repo=repo, pull_number=num)\n",
    "    merged_by = None\n",
    "    if not(pr.json.get('merged_by') is None):\n",
    "        merged_by = pr.json.get('merged_by').get('login')\n",
    "    comments_url = pr.json.get('comments_url')\n",
    "    html_url = pr.json.get('html_url')\n",
    "    save_add_info(owner, repo, num, merged_by, comments_url, html_url)\n"
   ]
  },
  {
   "cell_type": "markdown",
   "metadata": {
    "id": "JeKyDvIYMENa"
   },
   "source": [
    "\n",
    "\n",
    "### 5.3.2. Execution :\n",
    "\n"
   ]
  },
  {
   "cell_type": "code",
   "execution_count": 31,
   "metadata": {
    "id": "I6l5O3SD4K_e"
   },
   "outputs": [],
   "source": [
    "maxInt = sys.maxsize\n",
    "while True:\n",
    "    try:\n",
    "        csv.field_size_limit(maxInt)\n",
    "        break\n",
    "    except OverflowError:\n",
    "        maxInt = int(maxInt/10)\n"
   ]
  },
  {
   "cell_type": "code",
   "execution_count": 32,
   "metadata": {
    "colab": {
     "base_uri": "https://localhost:8080/"
    },
    "id": "D7FksGAvMLKS",
    "outputId": "26a2b70b-3ad8-4ca4-9570-ce24ccb131a8"
   },
   "outputs": [
    {
     "name": "stdout",
     "output_type": "stream",
     "text": [
      "0\n"
     ]
    }
   ],
   "source": [
    "output_file = open(res_path)\n",
    "output_read = csv.reader(output_file)\n",
    "output_size = len(list(output_read)) - 1\n",
    "print(output_size)\n"
   ]
  },
  {
   "cell_type": "code",
   "execution_count": 34,
   "metadata": {
    "colab": {
     "base_uri": "https://localhost:8080/"
    },
    "id": "gGAQFA9QMTMa",
    "outputId": "ba11f784-f665-4e86-94d2-304dff92c31c"
   },
   "outputs": [
    {
     "name": "stdout",
     "output_type": "stream",
     "text": [
      "[0, '\\ufeffOwner', 'Repo', 'Number']\n",
      "[1, 'DIYgod', 'diygod.me', '365']\n",
      "[2, 'ruevko', 'slides', '1']\n",
      "[3, 'Vyvy-vi-archives', 'lets-troll-ryan', '6']\n",
      "[4, 'Vyvy-vi-archives', 'lets-troll-ryan', '3']\n",
      "[5, 'mondeja', 'remove-labels-gh-action', '3']\n",
      "[6, 'aemc', 'goal-coach', '22']\n",
      "[7, 'uwpokerclub', 'app', '32']\n",
      "[8, 'aemc', 'goal-coach', '21']\n",
      "[9, 'piemasters', 'MiniToTheMax', '1539']\n",
      "[10, 'decentraland', 'builder', '1288']\n",
      "[11, 'remotehour', 'rrule-duration', '10']\n",
      "[12, 'ember-learn', 'deprecation-app', '831']\n"
     ]
    }
   ],
   "source": [
    "requested = False\n",
    "index = 0\n",
    "count = -1\n",
    "with open(src_path, 'r') as file:\n",
    "    reader = csv.reader(file)\n",
    "    for row in reader:\n",
    "        requested = False\n",
    "        if (index < output_size):\n",
    "            index += 1\n",
    "            continue\n",
    "        print([(count + 1), row[0], row[1], row[2]])\n",
    "        if count == -1:\n",
    "            count += 1\n",
    "            continue\n",
    "        try:\n",
    "          handle_request(row[0], row[1], row[2])\n",
    "          requested = True\n",
    "          count += 1\n",
    "        except UnknownObjectException:\n",
    "          print(\"Pull Request not found !\")\n",
    "          requested = True\n",
    "          count += 1\n",
    "        if (count % 60 == 0 and requested):\n",
    "            print(\"Waiting ...\")\n",
    "            sleep(60)\n"
   ]
  },
  {
   "cell_type": "markdown",
   "metadata": {
    "id": "BCroAu9yFrTT"
   },
   "source": [
    "# 6. Extract Data for PR [Closed by] Who ?"
   ]
  },
  {
   "cell_type": "markdown",
   "metadata": {},
   "source": [
    "This section allows to download data to determine the user who **closed** the PRs :"
   ]
  },
  {
   "cell_type": "markdown",
   "metadata": {},
   "source": [
    "## 6.1. Environment Preparation :"
   ]
  },
  {
   "cell_type": "code",
   "execution_count": 35,
   "metadata": {
    "id": "MyO425KqFrTT"
   },
   "outputs": [],
   "source": [
    "PATH = './Example/Data/By/Closed/'\n",
    "src_path = PATH + 'Input.csv'\n",
    "res_path = PATH + 'Output.csv'\n"
   ]
  },
  {
   "cell_type": "markdown",
   "metadata": {
    "id": "h3g2yTgVjffW"
   },
   "source": [
    "## 6.2. First Time Execution"
   ]
  },
  {
   "cell_type": "code",
   "execution_count": 36,
   "metadata": {
    "id": "fPY7fu3wFrTU"
   },
   "outputs": [],
   "source": [
    "header = ['owner', 'repo', 'number', 'comment_by', 'comment_body', 'html_url']\n",
    "save_header(res_path, header)\n"
   ]
  },
  {
   "cell_type": "markdown",
   "metadata": {
    "id": "FInd1pWMjnP9"
   },
   "source": [
    "## 6.3. Data Extraction :"
   ]
  },
  {
   "cell_type": "markdown",
   "metadata": {},
   "source": [
    "### 6.3.1. Functions :"
   ]
  },
  {
   "cell_type": "code",
   "execution_count": 37,
   "metadata": {
    "id": "YTURtD7zFrTU"
   },
   "outputs": [],
   "source": [
    "def save_add_info(owner, repo, number, comment_by, comment_body, html_url):\n",
    "    data = [\n",
    "            owner,\n",
    "            repo,\n",
    "            number,\n",
    "            comment_by,\n",
    "            comment_body,\n",
    "            html_url\n",
    "            ]\n",
    "    save_csv(res_path, data)\n"
   ]
  },
  {
   "cell_type": "code",
   "execution_count": 38,
   "metadata": {
    "id": "qgmI9mbpFrTU"
   },
   "outputs": [],
   "source": [
    "def handle_request(owner, repo, num):\n",
    "    repository = g.get_repo(owner + '/' + repo)\n",
    "    issue = repository.get_issue(int(num))\n",
    "    comments = issue.get_comments()\n",
    "    if (comments.totalCount > 0):\n",
    "        comment = comments[(comments.totalCount - 1)]\n",
    "        comment_by = comment.user.login\n",
    "        comment_body = []\n",
    "        comment_body.append(comment.body.replace(\"\\n\", \" \").replace(\"\\r\", \" \").replace(\"\\b\", \" \").replace(\";\", \",\"))\n",
    "    else:\n",
    "        comment_by = None\n",
    "        comment_body = None\n",
    "    html_url = 'https://github.com/' + owner + '/' + repo + '/pull/' + num\n",
    "    save_add_info(owner, repo, num, comment_by, comment_body, html_url)\n"
   ]
  },
  {
   "cell_type": "markdown",
   "metadata": {},
   "source": [
    "### 6.3.2. Execution :"
   ]
  },
  {
   "cell_type": "code",
   "execution_count": 39,
   "metadata": {
    "id": "N_GUiGfuFrTU"
   },
   "outputs": [],
   "source": [
    "maxInt = sys.maxsize\n",
    "while True:\n",
    "    try:\n",
    "        csv.field_size_limit(maxInt)\n",
    "        break\n",
    "    except OverflowError:\n",
    "        maxInt = int(maxInt/10)\n"
   ]
  },
  {
   "cell_type": "code",
   "execution_count": 40,
   "metadata": {
    "colab": {
     "base_uri": "https://localhost:8080/"
    },
    "id": "N77N2vEuFrTV",
    "outputId": "3f654feb-6df7-4b65-fbb6-a28cf5316218"
   },
   "outputs": [
    {
     "name": "stdout",
     "output_type": "stream",
     "text": [
      "0\n"
     ]
    }
   ],
   "source": [
    "output_file = open(res_path)\n",
    "output_read = csv.reader(output_file)\n",
    "output_size = len(list(output_read)) - 1\n",
    "print(output_size)\n"
   ]
  },
  {
   "cell_type": "code",
   "execution_count": 41,
   "metadata": {
    "colab": {
     "base_uri": "https://localhost:8080/"
    },
    "id": "Ku3mP3HtFrTV",
    "outputId": "0e3dd7c7-b601-4ac0-f03c-ef64cf4b66ed"
   },
   "outputs": [
    {
     "name": "stdout",
     "output_type": "stream",
     "text": [
      "[0, '\\ufeffOwner', 'Repo', 'Number']\n",
      "[1, 'shobhitsingh29', 'saga_multiple_page', '33']\n",
      "[4, 'danish45007', 'maddit', '14']\n",
      "[7, 'developer-student-club-thapar', 'officialWebsite', '438']\n",
      "[10, 'STAC-IITMandi', 'STAC-IITMandi.github.io', '210']\n",
      "[13, 'k2glyph', 'react-material-admin-template', '40']\n",
      "[16, 'khrj', 'teledrive', '70']\n",
      "[19, 'Jorge-Bill', 'blog', '52']\n",
      "[22, 'TrigenSoftware', 'i18n-for-browser', '370']\n",
      "[25, 'keindev', 'string-lookup-manager', '493']\n",
      "[28, 'TrigenSoftware', 'i18n-for-react', '237']\n",
      "[31, 'react-component', 'gulp-jsx2example', '97']\n",
      "[34, 'geeeger', 'ws-uploader', '160']\n",
      "[37, 'ngoctrantl', 'erc20-explorer', '29']\n",
      "[40, 'jeremyrajan', 'json-markdown', '134']\n",
      "[43, 'Badi-Cal', 'badi-events-app', '41']\n",
      "[46, 'seijikohara', 'json-tree-view-vue3', '110']\n",
      "[49, 'takumi091111', 'website-nuxtjs', '160']\n",
      "[52, 'react-component', 'rc-server', '43']\n",
      "[55, 'webxmsj', 'blog-admin', '130']\n",
      "[58, 'TrigenSoftware', 'flexis-favicons', '364']\n",
      "Waiting ...\n",
      "[61, 'aaronhayes', 'hasura-sdk', '69']\n",
      "[64, 'CoinageCrypto', 'lamington', '382']\n",
      "[67, 'tidev', 'appcelerator.ble', '141']\n",
      "[70, 'eden-js', 'form', '111']\n",
      "[73, 'santosrai', 'Community.Activities', '73']\n",
      "[76, 'DotNetCodeIT', 'WebHooksServer', '33']\n",
      "[79, 'DotNetCodeIT', 'WebHooksServer', '32']\n",
      "[82, 'feldroy', 'django-crash-starter', '224']\n",
      "[85, 'aerickson', 'volumio-plugins', '62']\n",
      "[88, 'feldroy', 'django-crash-starter', '222']\n",
      "[91, 'dijonkitchen', 'material-ui-pickers', '9']\n",
      "[94, 'nathang21', 'markdown-it', '61']\n",
      "[97, 'shaped1', 'Bot', '15']\n",
      "[100, 'ffffranklin', 'ffffranklin.github.io', '264']\n",
      "[103, 'dabutvin', 'grunt-markdown', '122']\n",
      "[106, 'lucaspanjer', 'activemq', '6']\n",
      "[109, 'andyesys', 'npgsql', '36']\n",
      "[112, 'mowatermelon', 'learning-angular-webapp', '59']\n",
      "[115, 'status-board', 'core', '303']\n",
      "[118, 'ipfs', 'js-dag-service', '446']\n",
      "Waiting ...\n",
      "[121, 'msrose', 'node-package', '41']\n",
      "[124, 'Meadowsys', 'sani', '80']\n",
      "[127, 'sayrilamar', 'react-color', '120']\n",
      "[130, 'status-board', 'status-board', '1165']\n",
      "[133, 'ganoninc', 'gulp-webserver', '52']\n",
      "[136, 'moimikey', 'imagesloaded', '44']\n",
      "[139, 'mrlynn', 'meanstore', '670']\n",
      "[142, 'yotie', 'micron', '102']\n",
      "[145, 'fu4303', 'mxb', '10']\n",
      "[148, 'usgs', 'nwisweb-tableau-data-connector', '261']\n",
      "[151, 'fu4303', 'mxbstr', '8']\n",
      "[154, 'mattblubaugh', 'javascript-development-environment', '65']\n",
      "[157, 'mark-monteiro', 'smokes-lets-go', '28']\n",
      "[160, 'rogeriorioli', 'personal_lp_nextjs', '38']\n",
      "[163, 'lingnet', 'functions-samples', '239']\n",
      "[166, 'Judahh', 'pocketDoc', '153']\n",
      "[169, 'biglotteryfund', 'craft-dev', '577']\n",
      "[172, 'martinfrancois', 'wdio-mobile-utils', '606']\n",
      "[175, 'cesi-it-aix', 'bea-front', '143']\n"
     ]
    }
   ],
   "source": [
    "requested = False\n",
    "index = 0\n",
    "count = -1\n",
    "with open(src_path, 'r') as file:\n",
    "    reader = csv.reader(file)\n",
    "    for row in reader:\n",
    "        requested = False\n",
    "        if (index < output_size):\n",
    "            index += 1\n",
    "            continue\n",
    "        print([(count + 1), row[0], row[1], row[2]])\n",
    "        if count == -1:\n",
    "            count += 1\n",
    "            continue\n",
    "        try:\n",
    "          handle_request(row[0], row[1], row[2])\n",
    "          requested = True\n",
    "          count += 3\n",
    "        except Exception as e:\n",
    "          print(e)\n",
    "          requested = True\n",
    "        if (count % 60 == 0 and requested):\n",
    "            print(\"Waiting ...\")\n",
    "            sleep(60)\n"
   ]
  }
 ],
 "metadata": {
  "colab": {
   "collapsed_sections": [
    "ZoqX60uNyqxD",
    "mHfj6_l0HCWI",
    "pkAbIEvJHI4Q",
    "ro48Wxo82cxC",
    "Obh1zI-z3bjK",
    "9nBBJYPymdzC",
    "hpFIvt-4nohR",
    "njBEew9SHWv4",
    "h3g2yTgVjffW",
    "FInd1pWMjnP9",
    "yTAFUpEJ8b8H",
    "BCroAu9yFrTT"
   ],
   "provenance": []
  },
  "kernelspec": {
   "display_name": "Python 3 (ipykernel)",
   "language": "python",
   "name": "python3"
  },
  "language_info": {
   "codemirror_mode": {
    "name": "ipython",
    "version": 3
   },
   "file_extension": ".py",
   "mimetype": "text/x-python",
   "name": "python",
   "nbconvert_exporter": "python",
   "pygments_lexer": "ipython3",
   "version": "3.9.13"
  }
 },
 "nbformat": 4,
 "nbformat_minor": 1
}
